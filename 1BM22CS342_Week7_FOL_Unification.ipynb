{
  "nbformat": 4,
  "nbformat_minor": 0,
  "metadata": {
    "colab": {
      "provenance": []
    },
    "kernelspec": {
      "name": "python3",
      "display_name": "Python 3"
    },
    "language_info": {
      "name": "python"
    }
  },
  "cells": [
    {
      "cell_type": "code",
      "execution_count": 1,
      "metadata": {
        "colab": {
          "base_uri": "https://localhost:8080/"
        },
        "id": "QOzyhg8WFssR",
        "outputId": "652c0843-62b8-4fda-b3c0-17fd9e4c6005"
      },
      "outputs": [
        {
          "output_type": "stream",
          "name": "stdout",
          "text": [
            "Unification Result: [('x', 'a')]\n",
            "Unification Result: []\n",
            "Unification Result: FAILURE\n",
            "Unification Result: [('x', 'a'), ('y', 'b')]\n",
            "Unification Result: [('y', 'b')]\n"
          ]
        }
      ],
      "source": [
        "def unify(psi1, psi2):\n",
        "    if isinstance(psi1, str) and psi1.islower():\n",
        "        if psi1 == psi2:\n",
        "            return []\n",
        "        elif occurs_check(psi1, psi2):\n",
        "            return \"FAILURE\"\n",
        "        else:\n",
        "            return [(psi1, psi2)]\n",
        "    elif isinstance(psi2, str) and psi2.islower():\n",
        "        if occurs_check(psi2, psi1):\n",
        "            return \"FAILURE\"\n",
        "        else:\n",
        "            return [(psi2, psi1)]\n",
        "    elif psi1 == psi2:\n",
        "        return []\n",
        "    elif isinstance(psi1, list) and isinstance(psi2, list):\n",
        "        if psi1[0] != psi2[0]:\n",
        "            return \"FAILURE\"\n",
        "        if len(psi1) != len(psi2):\n",
        "            return \"FAILURE\"\n",
        "        subst = []\n",
        "        for i in range(len(psi1)):\n",
        "            s = unify(apply_substitution(subst, psi1[i]), apply_substitution(subst, psi2[i]))\n",
        "            if s == \"FAILURE\":\n",
        "                return \"FAILURE\"\n",
        "            subst.extend(s)\n",
        "        return subst\n",
        "    else:\n",
        "        return \"FAILURE\"\n",
        "\n",
        "\n",
        "def occurs_check(var, term):\n",
        "    \"\"\"\n",
        "    Checks if variable `var` occurs in term `term`.\n",
        "    \"\"\"\n",
        "    if var == term:\n",
        "        return True\n",
        "    elif isinstance(term, list):\n",
        "        return any(occurs_check(var, subterm) for subterm in term)\n",
        "    return False\n",
        "\n",
        "\n",
        "def apply_substitution(subst, term):\n",
        "    \"\"\"\n",
        "    Applies a set of substitutions to a term.\n",
        "    \"\"\"\n",
        "    if isinstance(term, str):\n",
        "        for var, replacement in subst:\n",
        "            if term == var:\n",
        "                return apply_substitution(subst, replacement)\n",
        "        return term\n",
        "    elif isinstance(term, list):\n",
        "        return [apply_substitution(subst, subterm) for subterm in term]\n",
        "    return term\n",
        "\n",
        "\n",
        "psi1 = [\"P\", \"x\", \"y\"]\n",
        "psi2 = [\"P\", \"a\", \"y\"]\n",
        "\n",
        "result = unify(psi1, psi2)\n",
        "print(\"Unification Result:\", result)\n",
        "\n",
        "psi1 = [\"P\", \"x\", \"y\"]\n",
        "psi2 = [\"P\", \"x\", \"y\"]\n",
        "\n",
        "result = unify(psi1, psi2)\n",
        "print(\"Unification Result:\", result)\n",
        "\n",
        "psi1 = [\"P\", \"x\", \"y\"]\n",
        "psi2 = [\"B\", \"x\", \"y\"]\n",
        "\n",
        "result = unify(psi1, psi2)\n",
        "print(\"Unification Result:\", result)\n",
        "\n",
        "psi1 = [\"P\", \"x\", \"y\"]\n",
        "psi2 = [\"P\", \"a\", \"b\"]\n",
        "\n",
        "result = unify(psi1, psi2)\n",
        "print(\"Unification Result:\", result)\n",
        "\n",
        "psi1 = [\"P\", \"x\", \"y\"]\n",
        "psi2 = [\"P\", \"x\", \"b\"]\n",
        "\n",
        "result = unify(psi1, psi2)\n",
        "print(\"Unification Result:\", result)"
      ]
    }
  ]
}